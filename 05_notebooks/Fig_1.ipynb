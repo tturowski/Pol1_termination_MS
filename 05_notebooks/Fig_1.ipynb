{
 "cells": [
  {
   "cell_type": "code",
   "execution_count": 14,
   "id": "b9461163",
   "metadata": {},
   "outputs": [],
   "source": [
    "import pandas as pd\n",
    "import matplotlib.pyplot as plt\n",
    "import trxtools as tt\n",
    "import os\n",
    "from pyCRAC.Parsers import GTF2\n",
    "import pyBigWig\n",
    "\n",
    "pathTAB = \"../seq_references/Saccharomyces_cerevisiae.EF4.74.dna.toplevel.shortChrNames.tab\"\n",
    "pathGTF = \"../seq_references/Saccharomyces_cerevisiae.EF4.74.shortChNames_with_PolIII_transcripts_extended_slop_intergenic_sort.gtf\"\n",
    "gtf = GTF2.Parse_GTF()\n",
    "gtf.read_GTF(pathGTF)\n",
    "gtf.read_TAB(pathTAB)\n",
    "\n",
    "sequences = pd.read_csv(pathTAB, sep='\\t',names=['chr','sequence'],index_col=0)\n",
    "chr_len = sequences['sequence'].str.len()\n",
    "\n",
    "pathDir = \"../04_BigWig/\""
   ]
  },
  {
   "cell_type": "code",
   "execution_count": 19,
   "id": "b3066268",
   "metadata": {},
   "outputs": [
    {
     "name": "stdout",
     "output_type": "stream",
     "text": [
      "597\n",
      "120\n",
      "120\n",
      "120\n",
      "117\n"
     ]
    }
   ],
   "source": [
    "data_files_raw = [f for f in os.listdir(pathDir) if 'raw' in f and \"bw\" in f]\n",
    "data_files_5end = [f for f in os.listdir(pathDir) if 'PROFILE_5end' in f and \"bw\" in f]\n",
    "data_files_3end = [f for f in os.listdir(pathDir) if 'PROFILE_3end' in f and \"polyA\" not in f and \"bw\" in f]\n",
    "data_files_polyA = [f for f in os.listdir(pathDir) if 'PROFILE_3end' in f and \"polyA\" in f and \"bw\" in f]\n",
    "\n",
    "print(len(os.listdir(pathDir)))\n",
    "print(len(data_files_raw))\n",
    "print(len(data_files_5end))\n",
    "print(len(data_files_3end))\n",
    "print(len(data_files_polyA))"
   ]
  },
  {
   "cell_type": "code",
   "execution_count": 16,
   "id": "880bbd6a",
   "metadata": {},
   "outputs": [
    {
     "name": "stdout",
     "output_type": "stream",
     "text": [
      "- chrXII (451785, 457732)\n",
      "- chrXII (460922, 466869)\n"
     ]
    }
   ],
   "source": [
    "print(gtf.strand(\"RDN37-1\"), gtf.chromosome(\"RDN37-1\"), gtf.chromosomeCoordinates(\"RDN37-1\"))\n",
    "print(gtf.strand(\"RDN37-2\"), gtf.chromosome(\"RDN37-2\"), gtf.chromosomeCoordinates(\"RDN37-2\"))"
   ]
  },
  {
   "cell_type": "code",
   "execution_count": 17,
   "id": "6d56fa21",
   "metadata": {},
   "outputs": [
    {
     "ename": "TypeError",
     "evalue": "sequence() missing 3 required positional arguments: 'strand', 'upstream', and 'downstream'",
     "output_type": "error",
     "traceback": [
      "\u001b[0;31m---------------------------------------------------------------------------\u001b[0m",
      "\u001b[0;31mTypeError\u001b[0m                                 Traceback (most recent call last)",
      "\u001b[0;32m/tmp/ipykernel_487/503466894.py\u001b[0m in \u001b[0;36m<module>\u001b[0;34m\u001b[0m\n\u001b[0;32m----> 1\u001b[0;31m \u001b[0mprint\u001b[0m\u001b[0;34m(\u001b[0m\u001b[0mgtf\u001b[0m\u001b[0;34m.\u001b[0m\u001b[0msequence\u001b[0m\u001b[0;34m(\u001b[0m\u001b[0;34m\"RDN37-1\"\u001b[0m\u001b[0;34m)\u001b[0m\u001b[0;34m)\u001b[0m\u001b[0;34m\u001b[0m\u001b[0;34m\u001b[0m\u001b[0m\n\u001b[0m",
      "\u001b[0;31mTypeError\u001b[0m: sequence() missing 3 required positional arguments: 'strand', 'upstream', and 'downstream'"
     ]
    }
   ],
   "source": [
    "def strip_BigWig_names(files=list()):\n",
    "    #returns uniq names for *fwd.bw and *rev.bw files\n",
    "    return list(set([f.replace(\"_fwd.bw\",\"\").replace(\"_rev.bw\",\"\") for f in files]))\n",
    "\n",
    "def getSeqData(gene_name, data_path, name, gtf, ranges=0):\n",
    "    strand, chromosome, coordinates = gtf.strand(gene_name), gtf.chromosome(gene_name), gtf.chromosomeCoordinates(gene_name)\n",
    "    if strand == \"+\":\n",
    "        bw = pyBigWig.open(data_path+name+\"_plus.bw\")\n",
    "        return pd.Series(bw.values(chromosome,min(coordinates)-ranges,max(coordinates)+ranges))\n",
    "    if strand == \"-\":\n",
    "        bw = pyBigWig.open(data_path+name+\"_minus.bw\")\n",
    "        return pd.Series(bw.values(chromosome,min(coordinates)-ranges,max(coordinates)+ranges)[::-1])\n",
    "\n",
    "def geneFromBigWig(gene_name, data_path, data_files, gtf, ranges=0):\n",
    "    df_t1 = pd.DataFrame()\n",
    "    df_t1[\"nucleotide\"] = \"_\".join(gtf.genomicSequence(gene_name,ranges=ranges)).split(\"_\")\n",
    "    for name in strip_BigWig_names(data_files):\n",
    "        df_t1[name.replace(\"_3end\",\"\").replace(\"_comp_flexbar_ao4m7_3linOnly_STARAligned.out\",\"\")] = getSeqData(gene_name, data_path, name, gtf, ranges=ranges)\n",
    "    return df_t1\n",
    "\n",
    "df2_RDN37_datasets_3end = geneFromBigWig(gene_name=\"RDN37-1\", data_path=path_data_3end, data_files=data_files_3end, gtf=gtf,ranges=300)"
   ]
  },
  {
   "cell_type": "code",
   "execution_count": null,
   "id": "cd626407",
   "metadata": {},
   "outputs": [],
   "source": []
  }
 ],
 "metadata": {
  "kernelspec": {
   "display_name": "Python 3 (ipykernel)",
   "language": "python",
   "name": "python3"
  },
  "language_info": {
   "codemirror_mode": {
    "name": "ipython",
    "version": 3
   },
   "file_extension": ".py",
   "mimetype": "text/x-python",
   "name": "python",
   "nbconvert_exporter": "python",
   "pygments_lexer": "ipython3",
   "version": "3.9.7"
  }
 },
 "nbformat": 4,
 "nbformat_minor": 5
}
