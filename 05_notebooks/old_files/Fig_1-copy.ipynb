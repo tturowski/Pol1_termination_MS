{
 "cells": [
  {
   "cell_type": "code",
   "execution_count": 1,
   "id": "8c980353",
   "metadata": {},
   "outputs": [],
   "source": [
    "#setting up the environment\n",
    "\n",
    "import pandas as pd\n",
    "import matplotlib.pyplot as plt\n",
    "import trxtools as tt\n",
    "import os\n",
    "from pyCRAC.Parsers import GTF2\n",
    "import pyBigWig\n",
    "\n",
    "pathTAB = \"../seq_references/Saccharomyces_cerevisiae.EF4.74.dna.toplevel.shortChrNames.tab\"\n",
    "pathGTF = \"../seq_references/Saccharomyces_cerevisiae.EF4.74.shortChNames_with_PolIII_transcripts_extended_slop_intergenic_sort.gtf\"\n",
    "gtf = GTF2.Parse_GTF()\n",
    "gtf.read_GTF(pathGTF)\n",
    "gtf.read_TAB(pathTAB)\n",
    "\n",
    "sequences = pd.read_csv(pathTAB, sep='\\t',names=['chr','sequence'],index_col=0)\n",
    "chr_len = sequences['sequence'].str.len()\n",
    "\n",
    "pathDir = \"../04_BigWig/\""
   ]
  },
  {
   "cell_type": "code",
   "execution_count": 2,
   "id": "a3c98338",
   "metadata": {},
   "outputs": [
    {
     "name": "stdout",
     "output_type": "stream",
     "text": [
      "597\n",
      "120\n",
      "120\n",
      "120\n",
      "117\n"
     ]
    }
   ],
   "source": [
    "data_files_raw = [f for f in os.listdir(pathDir) if 'raw' in f and \"bw\" in f]\n",
    "data_files_5end = [f for f in os.listdir(pathDir) if 'PROFILE_5end' in f and \"bw\" in f]\n",
    "data_files_3end = [f for f in os.listdir(pathDir) if 'PROFILE_3end' in f and \"polyA\" not in f and \"bw\" in f]\n",
    "data_files_polyA = [f for f in os.listdir(pathDir) if 'PROFILE_3end' in f and \"polyA\" in f and \"bw\" in f]\n",
    "\n",
    "# number of input datasets\n",
    "# print(len(os.listdir(pathDir)))\n",
    "# print(len(data_files_raw))\n",
    "# print(len(data_files_5end))\n",
    "# print(len(data_files_3end))\n",
    "# print(len(data_files_polyA))\n",
    "\n",
    "# print positions of rDNA in yeast genome\n",
    "\n",
    "# print(gtf.strand(\"RDN37-1\"), gtf.chromosome(\"RDN37-1\"), gtf.chromosomeCoordinates(\"RDN37-1\"))\n",
    "# print(gtf.strand(\"RDN37-2\"), gtf.chromosome(\"RDN37-2\"), gtf.chromosomeCoordinates(\"RDN37-2\"))"
   ]
  },
  {
   "cell_type": "code",
   "execution_count": 16,
   "id": "c3e5f2ec",
   "metadata": {},
   "outputs": [],
   "source": [
    "def strip_BigWig_names(files=list()):\n",
    "    #returns uniq names for *fwd.bw and *rev.bw files\n",
    "    return list(set([f.replace(\"_fwd.bw\",\"\").replace(\"_rev.bw\",\"\") for f in files]))\n",
    "\n",
    "def getSeqData(gene_name, data_path, name, gtf, ranges=0):\n",
    "    strand, chromosome, coordinates = gtf.strand(gene_name), gtf.chromosome(gene_name), gtf.chromosomeCoordinates(gene_name)\n",
    "    if strand == \"+\":\n",
    "        bw = pyBigWig.open(data_path+name+\"_fwd.bw\")\n",
    "        return pd.Series(bw.values(chromosome,min(coordinates)-ranges,max(coordinates)+ranges))\n",
    "    if strand == \"-\":\n",
    "        bw = pyBigWig.open(data_path+name+\"_rev.bw\")\n",
    "        return pd.Series(bw.values(chromosome,min(coordinates)-ranges,max(coordinates)+ranges)[::-1])\n",
    "\n",
    "def geneFromBigWig(gene_name, data_path, data_files, gtf, ranges=0):\n",
    "    df_t1 = pd.DataFrame()\n",
    "    df_t1[\"nucleotide\"] = \"_\".join(gtf.genomicSequence(gene_name,ranges=ranges)).split(\"_\")\n",
    "    for name in strip_BigWig_names(data_files):\n",
    "        df_t1[name] = getSeqData(gene_name, data_path, name, gtf, ranges=ranges)\n",
    "    return df_t1\n",
    "\n",
    "df01_RDN37_datasets_3end = geneFromBigWig(gene_name=\"RDN37-1\", data_path=pathDir, data_files=data_files_3end, gtf=gtf,ranges=300)\n",
    "# df01_RDN37_datasets_3end.fillna(0.0).plot()"
   ]
  },
  {
   "cell_type": "code",
   "execution_count": 59,
   "id": "ecf3796f",
   "metadata": {},
   "outputs": [
    {
     "name": "stderr",
     "output_type": "stream",
     "text": [
      "[urlOpen] Couldn't open ../04_BigWig/XX000000_Rpa190HTP_wt_none_6_PROFILE_3end_polyA_rev.bw for reading\n",
      "[urlOpen] Couldn't open ../04_BigWig/XX000000_Rpa190HTP_wt_none_6_PROFILE_3end_polyA_rev.bw for reading\n",
      "[pyBwOpen] bw is NULL!\n",
      "[urlOpen] Couldn't open ../04_BigWig/EP190925_Rpa135HTP_wt_noUV_none_1_PROFILE_3end_polyA_rev.bw for reading\n",
      "[urlOpen] Couldn't open ../04_BigWig/EP190925_Rpa135HTP_wt_noUV_none_1_PROFILE_3end_polyA_rev.bw for reading\n",
      "[pyBwOpen] bw is NULL!\n",
      "[urlOpen] Couldn't open ../04_BigWig/EP160126_Rpa190HTP_hmo1d_none_2_PROFILE_3end_polyA_rev.bw for reading\n",
      "[urlOpen] Couldn't open ../04_BigWig/EP160126_Rpa190HTP_hmo1d_none_2_PROFILE_3end_polyA_rev.bw for reading\n",
      "[pyBwOpen] bw is NULL!\n"
     ]
    }
   ],
   "source": [
    "def getTotalCountBigWig(chrom={},data_path=\"\", data_files=\"\"):\n",
    "    df_output = pd.DataFrame(index=chrom.keys())\n",
    "    for name in strip_BigWig_names(data_files):\n",
    "        df_temp = pd.DataFrame(index=chrom.keys())\n",
    "        try:\n",
    "            bw = pyBigWig.open(data_path+name+\"_fwd.bw\")\n",
    "            for c in chrom.keys():\n",
    "                df_temp.loc[c,'fwd']= bw.stats(c,type='sum',exact=True)[0]\n",
    "        except:\n",
    "            df_temp.loc[c,'fwd']= 0.0\n",
    "        try:\n",
    "            bw = pyBigWig.open(data_path+name+\"_rev.bw\")\n",
    "            for c in chrom.keys():\n",
    "                df_temp.loc[c,'rev']= bw.stats(c,type='sum',exact=True)[0]\n",
    "        except:\n",
    "            df_temp.loc[c,'rev']= 0.0\n",
    "        \n",
    "        df_output[name] = df_temp.sum(1)\n",
    "    return df_output\n",
    "\n",
    "df01_3ends = getTotalCountBigWig(chrom=chr_len.sort_index().to_dict(),data_path=pathDir,data_files=data_files_3end)\n",
    "df02_polyA = getTotalCountBigWig(chrom=chr_len.sort_index().to_dict(),data_path=pathDir,data_files=data_files_polyA)"
   ]
  },
  {
   "cell_type": "code",
   "execution_count": 68,
   "id": "4c2c7da0",
   "metadata": {},
   "outputs": [
    {
     "data": {
      "text/plain": [
       "XX000000_Rpa190HTP_wt_80s_1_PROFILE_3end_polyA                        0.0\n",
       "XX000000_Rpa190HTP_wt_100s_1_PROFILE_3end_polyA                       0.0\n",
       "C20P3-TT171005_Rpa135HTP_wt_none_x_PROFILE_3end_polyA                 0.0\n",
       "EP190925_Rpa135HTP_wt_noUV_none_1_PROFILE_3end_polyA                  0.0\n",
       "XX000000_Rpa190HTP_wt_80s_2_PROFILE_3end_polyA                        0.0\n",
       "XX000000_Rpa190HTP_wt_none_6_PROFILE_3end_polyA                       0.0\n",
       "C22P2beads-TT180115_FPHRpa12_wt_none_1_PROFILE_3end_polyA             0.0\n",
       "C18P2-TT170123_Rpa135HTP_wt_none_1_PROFILE_3end_polyA                 0.0\n",
       "XX000000_Rpa190HTP_wt_none_3_PROFILE_3end_polyA                       0.0\n",
       "C23P2-TT181022_Rpa135HTP_wt_none_2_PROFILE_3end_polyA                 0.0\n",
       "XX000000_Rpa190HTP_wt_none_5_PROFILE_3end_polyA                       0.0\n",
       "EP190925_Rpa135HTP_Rpa12dC_none_2_PROFILE_3end_polyA                  0.0\n",
       "CDF000002_Rrp41HTP_Rrp44-exo_none_2_PROFILE_3end_polyA                0.0\n",
       "EP160126_Rpa190HTP_hmo1d_none_2_PROFILE_3end_polyA                    0.0\n",
       "CDF000002_Rrp6HTP_Rrp44-exo_none_2_PROFILE_3end_polyA                 0.0\n",
       "CDF000002_Csl4HTP_Rrp44-exo_none_2_PROFILE_3end_polyA                 0.0\n",
       "XX000000_Rpa190HTP_wt_60s_1_PROFILE_3end_polyA                        0.0\n",
       "C22P2gel-TT180115_FPHRpa12_wt_none_2_PROFILE_3end_polyA               0.0\n",
       "EP190925_Rpa135HTP_wt_none_3_PROFILE_3end_polyA                       1.0\n",
       "XX000000_Rpa190HTP_wt_25rDNA_2_PROFILE_3end_polyA                     1.0\n",
       "XX000000_Rpa190HTP_wt_UVA_2_PROFILE_3end_polyA                        2.0\n",
       "CDF000001_Rrp44HTP_wt_none_1_PROFILE_3end_polyA                       2.0\n",
       "C23P2-TT181022_Rpa135HTP_Rpa12dC_none_1_PROFILE_3end_polyA            2.0\n",
       "CDF000002_Mtr4HTP_Rrp44-exo_none_2_PROFILE_3end_polyA                 2.0\n",
       "XX000000_Rpa190HTP_wt_100s_2_PROFILE_3end_polyA                       3.0\n",
       "EP160617_Rpa190HTP_hmo1d_none_1_PROFILE_3end_polyA                    3.0\n",
       "XX000000_Rpa190HTP_wt_25rDNA_1_PROFILE_3end_polyA                     5.0\n",
       "XX000000_Rpa190HTP_wt_UVA_1_PROFILE_3end_polyA                        5.0\n",
       "CDF000001_Rrp44HTP_Rrp41p_none_1_PROFILE_3end_polyA                   6.0\n",
       "CDF000002_Rrp44HTP_wt_none_2_PROFILE_3end_polyA                       6.0\n",
       "CDF000002_Rrp44HTP_Rrp41-channel_none_2_PROFILE_3end_polyA           19.0\n",
       "XX000000_Rpa190HTP_wt_none_2_PROFILE_3end_polyA                      28.0\n",
       "CDF000001_Rrp44HTP_Rrp41-channel_none_1_PROFILE_3end_polyA           40.0\n",
       "XX000000_Rpa190HTP_wt_none_4_PROFILE_3end_polyA                      48.0\n",
       "CDF000001_Rrp41HTP_Rrp44-exo_none_1_PROFILE_3end_polyA               62.0\n",
       "XX000000_Rpa190HTP_wt_none_1_PROFILE_3end_polyA                      74.0\n",
       "CDF000002_Rrp44-exoHTP_wt_none_2_PROFILE_3end_polyA                  84.0\n",
       "CDF000002_Rrp6HTP_wt_none_2_PROFILE_3end_polyA                       85.0\n",
       "CDF000001_Csl4HTP_Rrp44-exo_none_1_PROFILE_3end_polyA               103.0\n",
       "CS000002_Nab2HTP_wt_none_2_PROFILE_3end_polyA                       121.0\n",
       "CDF000001_Rrp44-exoHTP_wt_none_1_PROFILE_3end_polyA                 152.0\n",
       "CDF000001_Rrp6HTP_wt_none_1_PROFILE_3end_polyA                      165.0\n",
       "CS000001_Nab2HTP_wt_none_1_PROFILE_3end_polyA                       174.0\n",
       "EP160405_Rpa190HTP_wt_none_6_3end_PROFILE_3end_polyA                252.0\n",
       "CDF000001_Rrp6HTP_Rrp44-exo_none_1_PROFILE_3end_polyA               395.0\n",
       "EP141210_Rpa190HTP_wt_none_5_3end_PROFILE_3end_polyA                553.0\n",
       "CDF000001_Rrp44-exo-S1-HTP_wt_none_1_PROFILE_3end_polyA             594.0\n",
       "CDF000002_Rrp44-exo-S1-HTP_wt_none_2_PROFILE_3end_polyA            1134.0\n",
       "CDF000001_Mtr4HTP_Rrp44-exo_none_1_PROFILE_3end_polyA              3292.0\n",
       "CDF000001_Mtr4HTP_wt_none_1_PROFILE_3end_polyA                     4967.0\n",
       "CDF000002_Mtr4HTP_wt_none_2_PROFILE_3end_polyA                     5462.0\n",
       "C9P1-TT160511_Rpa190HTP_wt_none_3_3end_PROFILE_3end_polyA          5879.0\n",
       "XX000000_Rpc160HTP_wt_glu_2_3end_PROFILE_3end_polyA               18622.0\n",
       "C2P1-TT141024_Rpa190HTP_wt_none_2_3end_PROFILE_3end_polyA         19964.0\n",
       "SG120826_Rat1HTP_wt_none_11_default_PROFILE_3end_polyA            29835.0\n",
       "SG120826_Rat1HTP_wt_none_5_default_PROFILE_3end_polyA             30801.0\n",
       "SRR5388475-SB170330_Rpo21HTP_wt_none_2_3end_PROFILE_3end_polyA    33506.0\n",
       "XX000000_Rpc160HTP_wt_glu_1_3end_PROFILE_3end_polyA               72446.0\n",
       "SRR2920426-RH150623_Rpo21HTP_wt_none_4_3end_PROFILE_3end_polyA    93083.0\n",
       "SRR5388474-SB170330_Rpo21HTP_wt_none_1_3end_PROFILE_3end_polyA    98266.0\n",
       "dtype: float64"
      ]
     },
     "execution_count": 68,
     "metadata": {},
     "output_type": "execute_result"
    }
   ],
   "source": [
    "df02_polyA.sum().sort_values()"
   ]
  },
  {
   "cell_type": "code",
   "execution_count": null,
   "id": "d874702a",
   "metadata": {},
   "outputs": [],
   "source": []
  }
 ],
 "metadata": {
  "kernelspec": {
   "display_name": "Python 3 (ipykernel)",
   "language": "python",
   "name": "python3"
  },
  "language_info": {
   "codemirror_mode": {
    "name": "ipython",
    "version": 3
   },
   "file_extension": ".py",
   "mimetype": "text/x-python",
   "name": "python",
   "nbconvert_exporter": "python",
   "pygments_lexer": "ipython3",
   "version": "3.9.7"
  }
 },
 "nbformat": 4,
 "nbformat_minor": 5
}
